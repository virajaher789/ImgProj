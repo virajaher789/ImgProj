{
 "cells": [
  {
   "cell_type": "code",
   "execution_count": 4,
   "metadata": {},
   "outputs": [
    {
     "ename": "ModuleNotFoundError",
     "evalue": "No module named 'dlib'",
     "output_type": "error",
     "traceback": [
      "\u001b[1;31m---------------------------------------------------------------------------\u001b[0m",
      "\u001b[1;31mModuleNotFoundError\u001b[0m                       Traceback (most recent call last)",
      "\u001b[1;32me:\\College-Sem1\\ImageProcssing\\Project\\facedistortion.ipynb Cell 1\u001b[0m line \u001b[0;36m2\n\u001b[0;32m      <a href='vscode-notebook-cell:/e%3A/College-Sem1/ImageProcssing/Project/facedistortion.ipynb#W0sZmlsZQ%3D%3D?line=0'>1</a>\u001b[0m \u001b[39mimport\u001b[39;00m \u001b[39mcv2\u001b[39;00m\n\u001b[1;32m----> <a href='vscode-notebook-cell:/e%3A/College-Sem1/ImageProcssing/Project/facedistortion.ipynb#W0sZmlsZQ%3D%3D?line=1'>2</a>\u001b[0m \u001b[39mimport\u001b[39;00m \u001b[39mdlib\u001b[39;00m\n\u001b[0;32m      <a href='vscode-notebook-cell:/e%3A/College-Sem1/ImageProcssing/Project/facedistortion.ipynb#W0sZmlsZQ%3D%3D?line=2'>3</a>\u001b[0m \u001b[39mimport\u001b[39;00m \u001b[39mnumpy\u001b[39;00m \u001b[39mas\u001b[39;00m \u001b[39mnp\u001b[39;00m\n\u001b[0;32m      <a href='vscode-notebook-cell:/e%3A/College-Sem1/ImageProcssing/Project/facedistortion.ipynb#W0sZmlsZQ%3D%3D?line=3'>4</a>\u001b[0m \u001b[39mfrom\u001b[39;00m \u001b[39mscipy\u001b[39;00m\u001b[39m.\u001b[39;00m\u001b[39minterpolate\u001b[39;00m \u001b[39mimport\u001b[39;00m Rbf\n",
      "\u001b[1;31mModuleNotFoundError\u001b[0m: No module named 'dlib'"
     ]
    }
   ],
   "source": [
    "import cv2\n",
    "import numpy as np\n",
    "\n"
   ]
  },
  {
   "cell_type": "code",
   "execution_count": 1,
   "metadata": {},
   "outputs": [],
   "source": []
  },
  {
   "cell_type": "code",
   "execution_count": 1,
   "metadata": {},
   "outputs": [],
   "source": [
    "import cv2\n",
    "import numpy as np\n",
    "\n",
    "# Load facial classifiers\n",
    "face_cascade = cv2.CascadeClassifier('haarcascade_frontalface_default.xml')\n",
    "\n",
    "# Read the uploaded cat filter image\n",
    "cat = cv2.imread('pngegg.png', -1)  # -1 to read with the alpha channel\n",
    "\n",
    "# Check if the image has an alpha channel\n",
    "if cat.shape[2] == 4:\n",
    "    # Split the channels\n",
    "    b_channel, g_channel, r_channel, alpha_channel = cv2.split(cat)\n",
    "    \n",
    "    # Create a mask and inverse mask using the alpha channel\n",
    "    original_mask = alpha_channel\n",
    "    original_mask_inv = cv2.bitwise_not(original_mask)\n",
    "    \n",
    "    # Convert the image to BGR (dropping alpha channel)\n",
    "    cat = cv2.merge((b_channel, g_channel, r_channel))\n",
    "else:\n",
    "    # Convert to grayscale and create a binary mask if no alpha channel\n",
    "    cat_gray = cv2.cvtColor(cat, cv2.COLOR_BGR2GRAY)\n",
    "    _, original_mask = cv2.threshold(cat_gray, 10, 255, cv2.THRESH_BINARY_INV)\n",
    "    original_mask_inv = cv2.bitwise_not(original_mask)\n",
    "\n",
    "# Video capture\n",
    "cap = cv2.VideoCapture(0)\n",
    "\n",
    "while True:\n",
    "    # Read each frame of video and convert to gray\n",
    "    ret, img = cap.read()\n",
    "    gray = cv2.cvtColor(img, cv2.COLOR_BGR2GRAY)\n",
    "    img_h, img_w = img.shape[:2]\n",
    "\n",
    "    # Find faces in the image using classifier\n",
    "    faces = face_cascade.detectMultiScale(gray, 1.3, 5)\n",
    "\n",
    "    for (x, y, w, h) in faces:\n",
    "        # Resize the cat filter to fit on the face\n",
    "        cat_width = w\n",
    "        cat_height = int(cat_width * cat.shape[0] / cat.shape[1])\n",
    "        cat = cv2.resize(cat, (cat_width, cat_height), interpolation=cv2.INTER_AREA)\n",
    "        mask = cv2.resize(original_mask, (cat_width, cat_height), interpolation=cv2.INTER_AREA)\n",
    "        mask_inv = cv2.resize(original_mask_inv, (cat_width, cat_height), interpolation=cv2.INTER_AREA)\n",
    "\n",
    "        # Define the region of interest on the face\n",
    "        roi = img[y:y+cat_height, x:x+cat_width]\n",
    "\n",
    "        # Use the mask to create the region of the cat filter\n",
    "        img_bg = cv2.bitwise_and(roi, roi, mask=mask_inv)\n",
    "        cat_fg = cv2.bitwise_and(cat, cat, mask=mask)\n",
    "\n",
    "        # Combine the region with the cat filter\n",
    "        dst = cv2.add(img_bg, cat_fg)\n",
    "        img[y:y+cat_height, x:x+cat_width] = dst\n",
    "\n",
    "    # Display the resulting frame\n",
    "    cv2.imshow('img', img)\n",
    "\n",
    "    # Break the loop with the 'q' key\n",
    "    if cv2.waitKey(1) == ord('q'):\n",
    "        break\n",
    "\n",
    "# Release video capture and close windows\n",
    "cap.release()\n",
    "cv2.destroyAllWindows()"
   ]
  },
  {
   "cell_type": "markdown",
   "metadata": {},
   "source": []
  },
  {
   "cell_type": "code",
   "execution_count": null,
   "metadata": {},
   "outputs": [],
   "source": []
  }
 ],
 "metadata": {
  "kernelspec": {
   "display_name": "Python 3",
   "language": "python",
   "name": "python3"
  },
  "language_info": {
   "codemirror_mode": {
    "name": "ipython",
    "version": 3
   },
   "file_extension": ".py",
   "mimetype": "text/x-python",
   "name": "python",
   "nbconvert_exporter": "python",
   "pygments_lexer": "ipython3",
   "version": "3.11.6"
  }
 },
 "nbformat": 4,
 "nbformat_minor": 2
}
